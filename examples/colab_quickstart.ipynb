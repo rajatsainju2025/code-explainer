{
 "cells": [
  {
   "cell_type": "markdown",
   "id": "461408c7",
   "metadata": {},
   "source": [
    "# Code Explainer Quickstart (Colab)\n",
    "\n",
    "This notebook shows how to install, train on tiny data, evaluate, and serve the UI."
   ]
  },
  {
   "cell_type": "code",
   "execution_count": null,
   "id": "93d6730d",
   "metadata": {},
   "outputs": [],
   "source": [
    "# Install package\n",
    "!pip -q install git+https://github.com/rajatsainju2025/code-explainer.git"
   ]
  },
  {
   "cell_type": "code",
   "execution_count": null,
   "id": "07c821da",
   "metadata": {},
   "outputs": [],
   "source": [
    "# Quick train on tiny dataset\n",
    "!code-explainer train --config configs/default.yaml"
   ]
  },
  {
   "cell_type": "code",
   "execution_count": null,
   "id": "b8c0c497",
   "metadata": {},
   "outputs": [],
   "source": [
    "# Evaluate\n",
    "!code-explainer eval --config configs/default.yaml"
   ]
  },
  {
   "cell_type": "markdown",
   "id": "e8830ddc",
   "metadata": {},
   "source": [
    "## Explain code\n",
    "Use the CLI to explain a snippet."
   ]
  },
  {
   "cell_type": "code",
   "execution_count": null,
   "id": "03617ff8",
   "metadata": {},
   "outputs": [],
   "source": [
    "!code-explainer explain --config configs/default.yaml \"print('hello')\""
   ]
  }
 ],
 "metadata": {
  "language_info": {
   "name": "python"
  }
 },
 "nbformat": 4,
 "nbformat_minor": 5
}
